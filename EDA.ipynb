{
 "cells": [
  {
   "cell_type": "code",
   "execution_count": 1,
   "id": "308c9fc4",
   "metadata": {},
   "outputs": [],
   "source": [
    "#!pip install pandas\n",
    "#!pip install matplotlib\n",
    "#!pip install datasist\n",
    "#!pip install seaborn"
   ]
  },
  {
   "cell_type": "code",
   "execution_count": 2,
   "id": "98994c5b",
   "metadata": {},
   "outputs": [],
   "source": [
    "import pandas as pd\n",
    "import matplotlib.pyplot as plt\n",
    "%matplotlib inline\n",
    "import seaborn as sns\n",
    "plt.rcParams['figure.figsize'] = (15,15)\n",
    "import statistics as stat"
   ]
  },
  {
   "cell_type": "code",
   "execution_count": 3,
   "id": "6ff3c711",
   "metadata": {},
   "outputs": [
    {
     "ename": "FileNotFoundError",
     "evalue": "[Errno 2] No such file or directory: 'Cab_Data.csv'",
     "output_type": "error",
     "traceback": [
      "\u001b[1;31m---------------------------------------------------------------------------\u001b[0m",
      "\u001b[1;31mFileNotFoundError\u001b[0m                         Traceback (most recent call last)",
      "Input \u001b[1;32mIn [3]\u001b[0m, in \u001b[0;36m<cell line: 1>\u001b[1;34m()\u001b[0m\n\u001b[1;32m----> 1\u001b[0m Cab \u001b[38;5;241m=\u001b[39m \u001b[43mpd\u001b[49m\u001b[38;5;241;43m.\u001b[39;49m\u001b[43mread_csv\u001b[49m\u001b[43m(\u001b[49m\u001b[38;5;124;43m\"\u001b[39;49m\u001b[38;5;124;43mCab_Data.csv\u001b[39;49m\u001b[38;5;124;43m\"\u001b[39;49m\u001b[43m)\u001b[49m\n\u001b[0;32m      2\u001b[0m Cab\n\u001b[0;32m      3\u001b[0m Cab[\u001b[38;5;124m\"\u001b[39m\u001b[38;5;124mDate of Travel\u001b[39m\u001b[38;5;124m\"\u001b[39m] \u001b[38;5;241m=\u001b[39m pd\u001b[38;5;241m.\u001b[39mto_datetime(Cab[\u001b[38;5;124m\"\u001b[39m\u001b[38;5;124mDate of Travel\u001b[39m\u001b[38;5;124m\"\u001b[39m])\n",
      "File \u001b[1;32m~\\anaconda3\\lib\\site-packages\\pandas\\util\\_decorators.py:311\u001b[0m, in \u001b[0;36mdeprecate_nonkeyword_arguments.<locals>.decorate.<locals>.wrapper\u001b[1;34m(*args, **kwargs)\u001b[0m\n\u001b[0;32m    305\u001b[0m \u001b[38;5;28;01mif\u001b[39;00m \u001b[38;5;28mlen\u001b[39m(args) \u001b[38;5;241m>\u001b[39m num_allow_args:\n\u001b[0;32m    306\u001b[0m     warnings\u001b[38;5;241m.\u001b[39mwarn(\n\u001b[0;32m    307\u001b[0m         msg\u001b[38;5;241m.\u001b[39mformat(arguments\u001b[38;5;241m=\u001b[39marguments),\n\u001b[0;32m    308\u001b[0m         \u001b[38;5;167;01mFutureWarning\u001b[39;00m,\n\u001b[0;32m    309\u001b[0m         stacklevel\u001b[38;5;241m=\u001b[39mstacklevel,\n\u001b[0;32m    310\u001b[0m     )\n\u001b[1;32m--> 311\u001b[0m \u001b[38;5;28;01mreturn\u001b[39;00m func(\u001b[38;5;241m*\u001b[39margs, \u001b[38;5;241m*\u001b[39m\u001b[38;5;241m*\u001b[39mkwargs)\n",
      "File \u001b[1;32m~\\anaconda3\\lib\\site-packages\\pandas\\io\\parsers\\readers.py:680\u001b[0m, in \u001b[0;36mread_csv\u001b[1;34m(filepath_or_buffer, sep, delimiter, header, names, index_col, usecols, squeeze, prefix, mangle_dupe_cols, dtype, engine, converters, true_values, false_values, skipinitialspace, skiprows, skipfooter, nrows, na_values, keep_default_na, na_filter, verbose, skip_blank_lines, parse_dates, infer_datetime_format, keep_date_col, date_parser, dayfirst, cache_dates, iterator, chunksize, compression, thousands, decimal, lineterminator, quotechar, quoting, doublequote, escapechar, comment, encoding, encoding_errors, dialect, error_bad_lines, warn_bad_lines, on_bad_lines, delim_whitespace, low_memory, memory_map, float_precision, storage_options)\u001b[0m\n\u001b[0;32m    665\u001b[0m kwds_defaults \u001b[38;5;241m=\u001b[39m _refine_defaults_read(\n\u001b[0;32m    666\u001b[0m     dialect,\n\u001b[0;32m    667\u001b[0m     delimiter,\n\u001b[1;32m   (...)\u001b[0m\n\u001b[0;32m    676\u001b[0m     defaults\u001b[38;5;241m=\u001b[39m{\u001b[38;5;124m\"\u001b[39m\u001b[38;5;124mdelimiter\u001b[39m\u001b[38;5;124m\"\u001b[39m: \u001b[38;5;124m\"\u001b[39m\u001b[38;5;124m,\u001b[39m\u001b[38;5;124m\"\u001b[39m},\n\u001b[0;32m    677\u001b[0m )\n\u001b[0;32m    678\u001b[0m kwds\u001b[38;5;241m.\u001b[39mupdate(kwds_defaults)\n\u001b[1;32m--> 680\u001b[0m \u001b[38;5;28;01mreturn\u001b[39;00m \u001b[43m_read\u001b[49m\u001b[43m(\u001b[49m\u001b[43mfilepath_or_buffer\u001b[49m\u001b[43m,\u001b[49m\u001b[43m \u001b[49m\u001b[43mkwds\u001b[49m\u001b[43m)\u001b[49m\n",
      "File \u001b[1;32m~\\anaconda3\\lib\\site-packages\\pandas\\io\\parsers\\readers.py:575\u001b[0m, in \u001b[0;36m_read\u001b[1;34m(filepath_or_buffer, kwds)\u001b[0m\n\u001b[0;32m    572\u001b[0m _validate_names(kwds\u001b[38;5;241m.\u001b[39mget(\u001b[38;5;124m\"\u001b[39m\u001b[38;5;124mnames\u001b[39m\u001b[38;5;124m\"\u001b[39m, \u001b[38;5;28;01mNone\u001b[39;00m))\n\u001b[0;32m    574\u001b[0m \u001b[38;5;66;03m# Create the parser.\u001b[39;00m\n\u001b[1;32m--> 575\u001b[0m parser \u001b[38;5;241m=\u001b[39m TextFileReader(filepath_or_buffer, \u001b[38;5;241m*\u001b[39m\u001b[38;5;241m*\u001b[39mkwds)\n\u001b[0;32m    577\u001b[0m \u001b[38;5;28;01mif\u001b[39;00m chunksize \u001b[38;5;129;01mor\u001b[39;00m iterator:\n\u001b[0;32m    578\u001b[0m     \u001b[38;5;28;01mreturn\u001b[39;00m parser\n",
      "File \u001b[1;32m~\\anaconda3\\lib\\site-packages\\pandas\\io\\parsers\\readers.py:933\u001b[0m, in \u001b[0;36mTextFileReader.__init__\u001b[1;34m(self, f, engine, **kwds)\u001b[0m\n\u001b[0;32m    930\u001b[0m     \u001b[38;5;28mself\u001b[39m\u001b[38;5;241m.\u001b[39moptions[\u001b[38;5;124m\"\u001b[39m\u001b[38;5;124mhas_index_names\u001b[39m\u001b[38;5;124m\"\u001b[39m] \u001b[38;5;241m=\u001b[39m kwds[\u001b[38;5;124m\"\u001b[39m\u001b[38;5;124mhas_index_names\u001b[39m\u001b[38;5;124m\"\u001b[39m]\n\u001b[0;32m    932\u001b[0m \u001b[38;5;28mself\u001b[39m\u001b[38;5;241m.\u001b[39mhandles: IOHandles \u001b[38;5;241m|\u001b[39m \u001b[38;5;28;01mNone\u001b[39;00m \u001b[38;5;241m=\u001b[39m \u001b[38;5;28;01mNone\u001b[39;00m\n\u001b[1;32m--> 933\u001b[0m \u001b[38;5;28mself\u001b[39m\u001b[38;5;241m.\u001b[39m_engine \u001b[38;5;241m=\u001b[39m \u001b[38;5;28;43mself\u001b[39;49m\u001b[38;5;241;43m.\u001b[39;49m\u001b[43m_make_engine\u001b[49m\u001b[43m(\u001b[49m\u001b[43mf\u001b[49m\u001b[43m,\u001b[49m\u001b[43m \u001b[49m\u001b[38;5;28;43mself\u001b[39;49m\u001b[38;5;241;43m.\u001b[39;49m\u001b[43mengine\u001b[49m\u001b[43m)\u001b[49m\n",
      "File \u001b[1;32m~\\anaconda3\\lib\\site-packages\\pandas\\io\\parsers\\readers.py:1217\u001b[0m, in \u001b[0;36mTextFileReader._make_engine\u001b[1;34m(self, f, engine)\u001b[0m\n\u001b[0;32m   1213\u001b[0m     mode \u001b[38;5;241m=\u001b[39m \u001b[38;5;124m\"\u001b[39m\u001b[38;5;124mrb\u001b[39m\u001b[38;5;124m\"\u001b[39m\n\u001b[0;32m   1214\u001b[0m \u001b[38;5;66;03m# error: No overload variant of \"get_handle\" matches argument types\u001b[39;00m\n\u001b[0;32m   1215\u001b[0m \u001b[38;5;66;03m# \"Union[str, PathLike[str], ReadCsvBuffer[bytes], ReadCsvBuffer[str]]\"\u001b[39;00m\n\u001b[0;32m   1216\u001b[0m \u001b[38;5;66;03m# , \"str\", \"bool\", \"Any\", \"Any\", \"Any\", \"Any\", \"Any\"\u001b[39;00m\n\u001b[1;32m-> 1217\u001b[0m \u001b[38;5;28mself\u001b[39m\u001b[38;5;241m.\u001b[39mhandles \u001b[38;5;241m=\u001b[39m \u001b[43mget_handle\u001b[49m\u001b[43m(\u001b[49m\u001b[43m  \u001b[49m\u001b[38;5;66;43;03m# type: ignore[call-overload]\u001b[39;49;00m\n\u001b[0;32m   1218\u001b[0m \u001b[43m    \u001b[49m\u001b[43mf\u001b[49m\u001b[43m,\u001b[49m\n\u001b[0;32m   1219\u001b[0m \u001b[43m    \u001b[49m\u001b[43mmode\u001b[49m\u001b[43m,\u001b[49m\n\u001b[0;32m   1220\u001b[0m \u001b[43m    \u001b[49m\u001b[43mencoding\u001b[49m\u001b[38;5;241;43m=\u001b[39;49m\u001b[38;5;28;43mself\u001b[39;49m\u001b[38;5;241;43m.\u001b[39;49m\u001b[43moptions\u001b[49m\u001b[38;5;241;43m.\u001b[39;49m\u001b[43mget\u001b[49m\u001b[43m(\u001b[49m\u001b[38;5;124;43m\"\u001b[39;49m\u001b[38;5;124;43mencoding\u001b[39;49m\u001b[38;5;124;43m\"\u001b[39;49m\u001b[43m,\u001b[49m\u001b[43m \u001b[49m\u001b[38;5;28;43;01mNone\u001b[39;49;00m\u001b[43m)\u001b[49m\u001b[43m,\u001b[49m\n\u001b[0;32m   1221\u001b[0m \u001b[43m    \u001b[49m\u001b[43mcompression\u001b[49m\u001b[38;5;241;43m=\u001b[39;49m\u001b[38;5;28;43mself\u001b[39;49m\u001b[38;5;241;43m.\u001b[39;49m\u001b[43moptions\u001b[49m\u001b[38;5;241;43m.\u001b[39;49m\u001b[43mget\u001b[49m\u001b[43m(\u001b[49m\u001b[38;5;124;43m\"\u001b[39;49m\u001b[38;5;124;43mcompression\u001b[39;49m\u001b[38;5;124;43m\"\u001b[39;49m\u001b[43m,\u001b[49m\u001b[43m \u001b[49m\u001b[38;5;28;43;01mNone\u001b[39;49;00m\u001b[43m)\u001b[49m\u001b[43m,\u001b[49m\n\u001b[0;32m   1222\u001b[0m \u001b[43m    \u001b[49m\u001b[43mmemory_map\u001b[49m\u001b[38;5;241;43m=\u001b[39;49m\u001b[38;5;28;43mself\u001b[39;49m\u001b[38;5;241;43m.\u001b[39;49m\u001b[43moptions\u001b[49m\u001b[38;5;241;43m.\u001b[39;49m\u001b[43mget\u001b[49m\u001b[43m(\u001b[49m\u001b[38;5;124;43m\"\u001b[39;49m\u001b[38;5;124;43mmemory_map\u001b[39;49m\u001b[38;5;124;43m\"\u001b[39;49m\u001b[43m,\u001b[49m\u001b[43m \u001b[49m\u001b[38;5;28;43;01mFalse\u001b[39;49;00m\u001b[43m)\u001b[49m\u001b[43m,\u001b[49m\n\u001b[0;32m   1223\u001b[0m \u001b[43m    \u001b[49m\u001b[43mis_text\u001b[49m\u001b[38;5;241;43m=\u001b[39;49m\u001b[43mis_text\u001b[49m\u001b[43m,\u001b[49m\n\u001b[0;32m   1224\u001b[0m \u001b[43m    \u001b[49m\u001b[43merrors\u001b[49m\u001b[38;5;241;43m=\u001b[39;49m\u001b[38;5;28;43mself\u001b[39;49m\u001b[38;5;241;43m.\u001b[39;49m\u001b[43moptions\u001b[49m\u001b[38;5;241;43m.\u001b[39;49m\u001b[43mget\u001b[49m\u001b[43m(\u001b[49m\u001b[38;5;124;43m\"\u001b[39;49m\u001b[38;5;124;43mencoding_errors\u001b[39;49m\u001b[38;5;124;43m\"\u001b[39;49m\u001b[43m,\u001b[49m\u001b[43m \u001b[49m\u001b[38;5;124;43m\"\u001b[39;49m\u001b[38;5;124;43mstrict\u001b[39;49m\u001b[38;5;124;43m\"\u001b[39;49m\u001b[43m)\u001b[49m\u001b[43m,\u001b[49m\n\u001b[0;32m   1225\u001b[0m \u001b[43m    \u001b[49m\u001b[43mstorage_options\u001b[49m\u001b[38;5;241;43m=\u001b[39;49m\u001b[38;5;28;43mself\u001b[39;49m\u001b[38;5;241;43m.\u001b[39;49m\u001b[43moptions\u001b[49m\u001b[38;5;241;43m.\u001b[39;49m\u001b[43mget\u001b[49m\u001b[43m(\u001b[49m\u001b[38;5;124;43m\"\u001b[39;49m\u001b[38;5;124;43mstorage_options\u001b[39;49m\u001b[38;5;124;43m\"\u001b[39;49m\u001b[43m,\u001b[49m\u001b[43m \u001b[49m\u001b[38;5;28;43;01mNone\u001b[39;49;00m\u001b[43m)\u001b[49m\u001b[43m,\u001b[49m\n\u001b[0;32m   1226\u001b[0m \u001b[43m\u001b[49m\u001b[43m)\u001b[49m\n\u001b[0;32m   1227\u001b[0m \u001b[38;5;28;01massert\u001b[39;00m \u001b[38;5;28mself\u001b[39m\u001b[38;5;241m.\u001b[39mhandles \u001b[38;5;129;01mis\u001b[39;00m \u001b[38;5;129;01mnot\u001b[39;00m \u001b[38;5;28;01mNone\u001b[39;00m\n\u001b[0;32m   1228\u001b[0m f \u001b[38;5;241m=\u001b[39m \u001b[38;5;28mself\u001b[39m\u001b[38;5;241m.\u001b[39mhandles\u001b[38;5;241m.\u001b[39mhandle\n",
      "File \u001b[1;32m~\\anaconda3\\lib\\site-packages\\pandas\\io\\common.py:789\u001b[0m, in \u001b[0;36mget_handle\u001b[1;34m(path_or_buf, mode, encoding, compression, memory_map, is_text, errors, storage_options)\u001b[0m\n\u001b[0;32m    784\u001b[0m \u001b[38;5;28;01melif\u001b[39;00m \u001b[38;5;28misinstance\u001b[39m(handle, \u001b[38;5;28mstr\u001b[39m):\n\u001b[0;32m    785\u001b[0m     \u001b[38;5;66;03m# Check whether the filename is to be opened in binary mode.\u001b[39;00m\n\u001b[0;32m    786\u001b[0m     \u001b[38;5;66;03m# Binary mode does not support 'encoding' and 'newline'.\u001b[39;00m\n\u001b[0;32m    787\u001b[0m     \u001b[38;5;28;01mif\u001b[39;00m ioargs\u001b[38;5;241m.\u001b[39mencoding \u001b[38;5;129;01mand\u001b[39;00m \u001b[38;5;124m\"\u001b[39m\u001b[38;5;124mb\u001b[39m\u001b[38;5;124m\"\u001b[39m \u001b[38;5;129;01mnot\u001b[39;00m \u001b[38;5;129;01min\u001b[39;00m ioargs\u001b[38;5;241m.\u001b[39mmode:\n\u001b[0;32m    788\u001b[0m         \u001b[38;5;66;03m# Encoding\u001b[39;00m\n\u001b[1;32m--> 789\u001b[0m         handle \u001b[38;5;241m=\u001b[39m \u001b[38;5;28;43mopen\u001b[39;49m\u001b[43m(\u001b[49m\n\u001b[0;32m    790\u001b[0m \u001b[43m            \u001b[49m\u001b[43mhandle\u001b[49m\u001b[43m,\u001b[49m\n\u001b[0;32m    791\u001b[0m \u001b[43m            \u001b[49m\u001b[43mioargs\u001b[49m\u001b[38;5;241;43m.\u001b[39;49m\u001b[43mmode\u001b[49m\u001b[43m,\u001b[49m\n\u001b[0;32m    792\u001b[0m \u001b[43m            \u001b[49m\u001b[43mencoding\u001b[49m\u001b[38;5;241;43m=\u001b[39;49m\u001b[43mioargs\u001b[49m\u001b[38;5;241;43m.\u001b[39;49m\u001b[43mencoding\u001b[49m\u001b[43m,\u001b[49m\n\u001b[0;32m    793\u001b[0m \u001b[43m            \u001b[49m\u001b[43merrors\u001b[49m\u001b[38;5;241;43m=\u001b[39;49m\u001b[43merrors\u001b[49m\u001b[43m,\u001b[49m\n\u001b[0;32m    794\u001b[0m \u001b[43m            \u001b[49m\u001b[43mnewline\u001b[49m\u001b[38;5;241;43m=\u001b[39;49m\u001b[38;5;124;43m\"\u001b[39;49m\u001b[38;5;124;43m\"\u001b[39;49m\u001b[43m,\u001b[49m\n\u001b[0;32m    795\u001b[0m \u001b[43m        \u001b[49m\u001b[43m)\u001b[49m\n\u001b[0;32m    796\u001b[0m     \u001b[38;5;28;01melse\u001b[39;00m:\n\u001b[0;32m    797\u001b[0m         \u001b[38;5;66;03m# Binary mode\u001b[39;00m\n\u001b[0;32m    798\u001b[0m         handle \u001b[38;5;241m=\u001b[39m \u001b[38;5;28mopen\u001b[39m(handle, ioargs\u001b[38;5;241m.\u001b[39mmode)\n",
      "\u001b[1;31mFileNotFoundError\u001b[0m: [Errno 2] No such file or directory: 'Cab_Data.csv'"
     ]
    }
   ],
   "source": [
    "Cab = pd.read_csv(\"Cab_Data.csv\")\n",
    "Cab\n",
    "Cab[\"Date of Travel\"] = pd.to_datetime(Cab[\"Date of Travel\"])\n",
    "Cab"
   ]
  },
  {
   "cell_type": "code",
   "execution_count": null,
   "id": "affa09c8",
   "metadata": {},
   "outputs": [],
   "source": [
    "City = pd.read_csv(\"City.csv\")\n",
    "City"
   ]
  },
  {
   "cell_type": "code",
   "execution_count": null,
   "id": "3741fb5d",
   "metadata": {},
   "outputs": [],
   "source": []
  },
  {
   "cell_type": "code",
   "execution_count": null,
   "id": "8a65b73e",
   "metadata": {},
   "outputs": [],
   "source": [
    "Customer = pd.read_csv(\"Customer_ID.csv\")\n",
    "Customer"
   ]
  },
  {
   "cell_type": "code",
   "execution_count": null,
   "id": "ea3c1604",
   "metadata": {},
   "outputs": [],
   "source": [
    "Transaction = pd.read_csv(\"Transaction_ID.csv\")\n",
    "Transaction"
   ]
  },
  {
   "cell_type": "markdown",
   "id": "e2a38eda",
   "metadata": {},
   "source": [
    "# Data Preparation"
   ]
  },
  {
   "cell_type": "code",
   "execution_count": null,
   "id": "35070f31",
   "metadata": {},
   "outputs": [],
   "source": [
    "#Preparation for Cab Data\n",
    "Cab.shape"
   ]
  },
  {
   "cell_type": "code",
   "execution_count": null,
   "id": "5bc79e45",
   "metadata": {},
   "outputs": [],
   "source": [
    "Cab.isnull().sum()"
   ]
  },
  {
   "cell_type": "code",
   "execution_count": null,
   "id": "b7aa8ac6",
   "metadata": {},
   "outputs": [],
   "source": [
    "#Preparation for City Data\n",
    "City.shape"
   ]
  },
  {
   "cell_type": "code",
   "execution_count": null,
   "id": "c97cd40f",
   "metadata": {},
   "outputs": [],
   "source": [
    "City.isnull().sum()"
   ]
  },
  {
   "cell_type": "code",
   "execution_count": null,
   "id": "6d760527",
   "metadata": {},
   "outputs": [],
   "source": [
    "#Preparation for Customer Data\n",
    "Customer.shape"
   ]
  },
  {
   "cell_type": "code",
   "execution_count": null,
   "id": "03b3116e",
   "metadata": {},
   "outputs": [],
   "source": [
    "Customer.isnull().sum()"
   ]
  },
  {
   "cell_type": "code",
   "execution_count": null,
   "id": "75b9c81f",
   "metadata": {},
   "outputs": [],
   "source": [
    "#Preparation for Transaction Data\n",
    "Transaction.shape"
   ]
  },
  {
   "cell_type": "markdown",
   "id": "23c85c3a",
   "metadata": {},
   "source": [
    "### EDA FOR CAB DATA"
   ]
  },
  {
   "cell_type": "code",
   "execution_count": null,
   "id": "eddc912b",
   "metadata": {},
   "outputs": [],
   "source": [
    "import datasist as ds"
   ]
  },
  {
   "cell_type": "code",
   "execution_count": null,
   "id": "74d7dc71",
   "metadata": {},
   "outputs": [],
   "source": [
    "Cab"
   ]
  },
  {
   "cell_type": "code",
   "execution_count": null,
   "id": "5f9324f5",
   "metadata": {},
   "outputs": [],
   "source": [
    "Cab.shape"
   ]
  },
  {
   "cell_type": "code",
   "execution_count": null,
   "id": "15935398",
   "metadata": {},
   "outputs": [],
   "source": [
    "Cab.info()"
   ]
  },
  {
   "cell_type": "code",
   "execution_count": null,
   "id": "08057e95",
   "metadata": {},
   "outputs": [],
   "source": [
    "ds.structdata.describe(Cab)"
   ]
  },
  {
   "cell_type": "code",
   "execution_count": null,
   "id": "e7d6b20a",
   "metadata": {},
   "outputs": [],
   "source": [
    "Cab[['Price Charged', 'Cost of Trip']]"
   ]
  },
  {
   "cell_type": "code",
   "execution_count": null,
   "id": "58737eeb",
   "metadata": {},
   "outputs": [],
   "source": [
    "Cab.tail()"
   ]
  },
  {
   "cell_type": "code",
   "execution_count": null,
   "id": "ea8568e7",
   "metadata": {},
   "outputs": [],
   "source": [
    "ds.visualizations.countplot(Cab)"
   ]
  },
  {
   "cell_type": "code",
   "execution_count": null,
   "id": "f62f9e59",
   "metadata": {},
   "outputs": [],
   "source": [
    "ds.visualizations.countplot(Cab, separate_by='City')"
   ]
  },
  {
   "cell_type": "markdown",
   "id": "93917790",
   "metadata": {},
   "source": [
    "### outlier removal"
   ]
  },
  {
   "cell_type": "code",
   "execution_count": null,
   "id": "1ccdeb89",
   "metadata": {},
   "outputs": [],
   "source": [
    "from matplotlib.pyplot import figure\n",
    "figure(num=None, figsize=(20, 20), dpi=800, facecolor='w', edgecolor='k')"
   ]
  },
  {
   "cell_type": "code",
   "execution_count": null,
   "id": "6d415599",
   "metadata": {},
   "outputs": [],
   "source": [
    "Cab_outliers = Cab[[\"KM Travelled\", \"Price Charged\",\"Cost of Trip\"]]\n",
    "Cab_outliers\n",
    "Cab_outliers.plot(kind='box')\n",
    "plt.show()\n",
    "\n"
   ]
  },
  {
   "cell_type": "markdown",
   "id": "f4cf237d",
   "metadata": {},
   "source": [
    "### EDA FOR CITY DATA"
   ]
  },
  {
   "cell_type": "code",
   "execution_count": null,
   "id": "c44d1214",
   "metadata": {},
   "outputs": [],
   "source": [
    "City"
   ]
  },
  {
   "cell_type": "code",
   "execution_count": null,
   "id": "0557ae04",
   "metadata": {},
   "outputs": [],
   "source": [
    "ds.structdata.describe(City)"
   ]
  },
  {
   "cell_type": "code",
   "execution_count": null,
   "id": "a3e8b6e0",
   "metadata": {},
   "outputs": [],
   "source": [
    "City.tail()\n",
    "City.info()"
   ]
  },
  {
   "cell_type": "code",
   "execution_count": null,
   "id": "33fcb442",
   "metadata": {
    "scrolled": true
   },
   "outputs": [],
   "source": [
    "City.sort_values(by=['Population', 'Users'])\n",
    "sns.scatterplot(data=City, x=\"City\", y=\"Users\", hue=\"City\", size=\"Users\")\n",
    "plt.xticks(rotation=45)\n"
   ]
  },
  {
   "cell_type": "code",
   "execution_count": null,
   "id": "bfb87e09",
   "metadata": {},
   "outputs": [],
   "source": [
    "City.sort_values(by=['Population', 'Users'])\n",
    "sns.scatterplot(data=City, x=\"City\", y=\"Population\", hue=\"City\", size=\"Population\")\n",
    "plt.xticks(rotation=45)"
   ]
  },
  {
   "cell_type": "markdown",
   "id": "ca5722a7",
   "metadata": {},
   "source": [
    "### outlier removal"
   ]
  },
  {
   "cell_type": "code",
   "execution_count": null,
   "id": "767aefdc",
   "metadata": {},
   "outputs": [],
   "source": [
    "City_outliers = City[[\"Population\", \"Users\"]]\n",
    "City_outliers\n",
    "City_outliers.plot(kind='box')\n",
    "plt.show()\n",
    "\n"
   ]
  },
  {
   "cell_type": "markdown",
   "id": "86289bbc",
   "metadata": {},
   "source": [
    "### EDA FOR CUSTOMER DATA"
   ]
  },
  {
   "cell_type": "code",
   "execution_count": null,
   "id": "4e765d71",
   "metadata": {},
   "outputs": [],
   "source": [
    "Customer"
   ]
  },
  {
   "cell_type": "code",
   "execution_count": null,
   "id": "3cdb24ea",
   "metadata": {},
   "outputs": [],
   "source": [
    "ds.structdata.describe(Customer)"
   ]
  },
  {
   "cell_type": "code",
   "execution_count": null,
   "id": "d5425898",
   "metadata": {},
   "outputs": [],
   "source": [
    "Customer.tail()"
   ]
  },
  {
   "cell_type": "code",
   "execution_count": null,
   "id": "39b3d371",
   "metadata": {},
   "outputs": [],
   "source": [
    "ds.visualizations.countplot(Customer)"
   ]
  },
  {
   "cell_type": "markdown",
   "id": "2c437056",
   "metadata": {},
   "source": [
    "### outlier removal"
   ]
  },
  {
   "cell_type": "code",
   "execution_count": null,
   "id": "4b74eca0",
   "metadata": {},
   "outputs": [],
   "source": [
    "Customer_outliers = Customer[[\"Age\", \"Income (USD/Month)\"]]\n",
    "Customer_outliers\n",
    "Customer_outliers.plot(kind='box')\n",
    "plt.show()\n",
    "\n"
   ]
  },
  {
   "cell_type": "markdown",
   "id": "5d0f7c86",
   "metadata": {},
   "source": [
    "## EDA FOR TRANSACTION"
   ]
  },
  {
   "cell_type": "code",
   "execution_count": null,
   "id": "3a16c2db",
   "metadata": {},
   "outputs": [],
   "source": [
    "Transaction"
   ]
  },
  {
   "cell_type": "code",
   "execution_count": null,
   "id": "5f91a6c7",
   "metadata": {},
   "outputs": [],
   "source": [
    "ds.structdata.describe(Transaction)"
   ]
  },
  {
   "cell_type": "code",
   "execution_count": null,
   "id": "cff1aea4",
   "metadata": {},
   "outputs": [],
   "source": [
    "Transaction.tail()"
   ]
  },
  {
   "cell_type": "code",
   "execution_count": null,
   "id": "af1feb45",
   "metadata": {},
   "outputs": [],
   "source": [
    "ds.visualizations.countplot(Transaction)"
   ]
  },
  {
   "cell_type": "code",
   "execution_count": null,
   "id": "e722a5c6",
   "metadata": {},
   "outputs": [],
   "source": [
    "Cab\n"
   ]
  },
  {
   "cell_type": "code",
   "execution_count": null,
   "id": "06a7d195",
   "metadata": {},
   "outputs": [],
   "source": [
    "City\n"
   ]
  },
  {
   "cell_type": "code",
   "execution_count": null,
   "id": "76afda73",
   "metadata": {},
   "outputs": [],
   "source": [
    "Customer\n"
   ]
  },
  {
   "cell_type": "code",
   "execution_count": null,
   "id": "946d2b79",
   "metadata": {},
   "outputs": [],
   "source": [
    "Transaction"
   ]
  },
  {
   "cell_type": "code",
   "execution_count": null,
   "id": "2cff1fa9",
   "metadata": {},
   "outputs": [],
   "source": [
    "Cab_Transaction = pd.merge(Cab, Transaction)\n",
    "Cab_Transaction"
   ]
  },
  {
   "cell_type": "code",
   "execution_count": null,
   "id": "3ab2a301",
   "metadata": {},
   "outputs": [],
   "source": [
    "#Merging Cab, Transaaction and Customer dataframes\n",
    "City_Customer = pd.merge(Cab_Transaction, Customer)\n",
    "City_Customer"
   ]
  },
  {
   "cell_type": "code",
   "execution_count": null,
   "id": "e2d6027c",
   "metadata": {
    "scrolled": false
   },
   "outputs": [],
   "source": [
    "#Merging Cab, Transaaction, City and Customer dataframes\n",
    "Final = pd.merge(City_Customer, City)\n",
    "Final\n"
   ]
  },
  {
   "cell_type": "markdown",
   "id": "5c3615e9",
   "metadata": {},
   "source": [
    "### EDA FOR THE FINAL DATAFRAME"
   ]
  },
  {
   "cell_type": "code",
   "execution_count": null,
   "id": "61821915",
   "metadata": {},
   "outputs": [],
   "source": [
    "ds.structdata.describe(Final)"
   ]
  },
  {
   "cell_type": "code",
   "execution_count": null,
   "id": "050ea144",
   "metadata": {},
   "outputs": [],
   "source": [
    "ds.visualizations.countplot(Final)"
   ]
  },
  {
   "cell_type": "markdown",
   "id": "a725d6d9",
   "metadata": {},
   "source": [
    "### splitting into the two cab companies"
   ]
  },
  {
   "cell_type": "code",
   "execution_count": null,
   "id": "acf496e0",
   "metadata": {},
   "outputs": [],
   "source": [
    "Pink_Cab = Final.loc[Final['Company'] == \"Pink Cab\"]\n",
    "Pink_Cab"
   ]
  },
  {
   "cell_type": "code",
   "execution_count": null,
   "id": "ff1c1722",
   "metadata": {},
   "outputs": [],
   "source": [
    "Yellow_Cab = Final.loc[Final['Company'] == \"Yellow Cab\"]\n",
    "Yellow_Cab"
   ]
  },
  {
   "cell_type": "code",
   "execution_count": null,
   "id": "e4c07624",
   "metadata": {},
   "outputs": [],
   "source": [
    "ds.visualizations.countplot(Final, separate_by='Company')"
   ]
  },
  {
   "cell_type": "code",
   "execution_count": null,
   "id": "a9c49e0f",
   "metadata": {},
   "outputs": [],
   "source": [
    "#Calculating per capita patronage in each city\n",
    "Final[\"Per capita patronage\"] = (\n",
    "    Final[\"Users\"] / Final[\"Population\"]\n",
    ")\n",
    "Final.head()"
   ]
  },
  {
   "cell_type": "code",
   "execution_count": null,
   "id": "45bed97d",
   "metadata": {},
   "outputs": [],
   "source": [
    "Most_popular_city=Final[[\"City\", \"Per capita patronage\"]]\n",
    "Most_popular_city\n",
    "\n"
   ]
  },
  {
   "cell_type": "code",
   "execution_count": null,
   "id": "e4dc1cbd",
   "metadata": {},
   "outputs": [],
   "source": [
    "plt.figure(figsize=(23, 23))\n",
    "\n",
    "sns.relplot(data=Most_popular_city, x=\"City\", y=\"Per capita patronage\", hue=\"City\", size=\"Per capita patronage\")\n",
    "plt.xticks(rotation=45)\n",
    "plt.show()"
   ]
  },
  {
   "cell_type": "code",
   "execution_count": null,
   "id": "70063db6",
   "metadata": {},
   "outputs": [],
   "source": [
    "Most_popular_city.plot.scatter(x = 'City', y = 'Per capita patronage', s = 100, c = 'green')\n",
    "plt.xticks(rotation=45)\n",
    "plt.show()"
   ]
  },
  {
   "cell_type": "markdown",
   "id": "fb69da99",
   "metadata": {},
   "source": [
    "### General Observations that can influence further analysis"
   ]
  },
  {
   "cell_type": "markdown",
   "id": "22f6cc6f",
   "metadata": {},
   "source": [
    "In the time period considered,\n",
    "1. There was more patronage of the Yellow Cab and why?\n",
    "    some hypotheses:\n",
    "<ul>\n",
    "        <li>a. It is cheaper</li>\n",
    "        <li>b. It is used in more populous cities</li>\n",
    "</ul>\n",
    "2. New York has the most patronage and why?(but does it translate to per capita patronage? no it doesn't...Boston and    \n",
    "   Washington DC have the most patronage of the two cabs per capita);<br>\n",
    "    some hypotheses:\n",
    "<ul>\n",
    "        <li>a. New York is the most populous city</li>\n",
    "        <li>b. patronage per capita may show that New York only has heavy patronage in sheer numbers</li>\n",
    "    <li><i> Investigate the outliers </i> </li>\n",
    "</ul>\n",
    "\n",
    "                     \n",
    "\n",
    "3. Customers preferred using their cards to pay as opposed to cash and why is that?<br>\n",
    "    some hypotheses:\n",
    "<ul>\n",
    "     <li> a. it is simply out of convenience</li>\n",
    "     <li> b. it is cheaper to use cards instead of Cash (also investigate along City lines to see if there is a pattern there)</li>\n",
    "</ul>"
   ]
  },
  {
   "cell_type": "markdown",
   "id": "5881bd09",
   "metadata": {},
   "source": [
    "## Hypotheses"
   ]
  },
  {
   "cell_type": "markdown",
   "id": "d426b029",
   "metadata": {},
   "source": [
    "# Hypothesis 1"
   ]
  },
  {
   "cell_type": "markdown",
   "id": "73fcdd7b",
   "metadata": {},
   "source": [
    "There is more patronage of Yellow Cab due to its cheaper cost"
   ]
  },
  {
   "cell_type": "code",
   "execution_count": null,
   "id": "25bdf18e",
   "metadata": {},
   "outputs": [],
   "source": [
    "#calculate the average price of yellow cab vs average price of Pink cab(Using price charged column)\n",
    "Yellow_Avg_price=round(Yellow_Cab['Price Charged'].mean())\n",
    "print(\"Approximated Average price charged for the Yellow Cab is\",Yellow_Avg_price)"
   ]
  },
  {
   "cell_type": "code",
   "execution_count": null,
   "id": "2a63be18",
   "metadata": {},
   "outputs": [],
   "source": [
    "Pink_Avg_price=round(Pink_Cab['Price Charged'].mean())\n",
    "print(\"Approximated Average price charged for the Pink Cab is\", Pink_Avg_price)"
   ]
  },
  {
   "cell_type": "markdown",
   "id": "5df95f2b",
   "metadata": {},
   "source": [
    "on average, the Pink cabs are are cheaper according to price charged. This somewhat disproves the initial hypothesis\n",
    "next check the average costs of trips"
   ]
  },
  {
   "cell_type": "code",
   "execution_count": null,
   "id": "c09bb357",
   "metadata": {},
   "outputs": [],
   "source": [
    "Yellow_Avg_cost=round(Yellow_Cab['Cost of Trip'].mean())\n",
    "print(\"Approximated Average cost for the Yellow Cab is\",Yellow_Avg_cost)"
   ]
  },
  {
   "cell_type": "code",
   "execution_count": null,
   "id": "bbb13501",
   "metadata": {},
   "outputs": [],
   "source": [
    "Yellow_Avg_cost=round(Yellow_Cab['Cost of Trip'].mean())\n",
    "print(\"Approximated Average cost for the Yellow Cab is\",Yellow_Avg_cost)"
   ]
  },
  {
   "cell_type": "code",
   "execution_count": null,
   "id": "1881168e",
   "metadata": {},
   "outputs": [],
   "source": [
    "Pink_Avg_cost=round(Pink_Cab['Cost of Trip'].mean())\n",
    "print(\"Approximated Average cost for the Pink Cab is\", Pink_Avg_cost)"
   ]
  },
  {
   "cell_type": "markdown",
   "id": "9e61eaab",
   "metadata": {},
   "source": [
    "using the cost of trips, the Yellow cab's is still is higher than that of the pink cab and \n",
    "overall disproves the hypothesis that the Yellow cabs have more patronage due to lower costs "
   ]
  },
  {
   "cell_type": "markdown",
   "id": "c1fcbf3e",
   "metadata": {},
   "source": [
    "# Hypothesis 2"
   ]
  },
  {
   "cell_type": "markdown",
   "id": "aefc8526",
   "metadata": {},
   "source": [
    "There is more patronage of Yellow Cab due to its use in the more populous cities"
   ]
  },
  {
   "cell_type": "code",
   "execution_count": null,
   "id": "051dee18",
   "metadata": {},
   "outputs": [],
   "source": [
    "sns.countplot(x ='City', data = Yellow_Cab)\n",
    "plt.xticks(rotation=45)"
   ]
  },
  {
   "cell_type": "code",
   "execution_count": null,
   "id": "be0c28a0",
   "metadata": {},
   "outputs": [],
   "source": [
    "sns.countplot(x ='City', data = Pink_Cab)\n",
    "plt.xticks(rotation=45)"
   ]
  },
  {
   "cell_type": "markdown",
   "id": "32e609fb",
   "metadata": {},
   "source": [
    "<b>Yellow cab Top 5 most popular cities</b><br>\n",
    "<table>\n",
    "    <tr>New York</tr><br>\n",
    "    <tr>Chicago</tr><br>\n",
    "    <tr>Washington DC</tr><br>\n",
    "    <tr>Los Angeles</tr><br>\n",
    "    <tr>Boston</tr><br>\n",
    "    </table>"
   ]
  },
  {
   "cell_type": "markdown",
   "id": "32535fe4",
   "metadata": {},
   "source": [
    "<strong>Pink cab Top 5 most popular cities</strong><br>\n",
    "<table>\n",
    "    <tr>Los Angeles</tr><br>\n",
    "    <tr>New York</tr><br>\n",
    "    <tr>San Diego</tr><br>\n",
    "    <tr>Chicago</tr><br>\n",
    "    <tr>Boston</tr><br>\n",
    "    </table>"
   ]
  },
  {
   "cell_type": "markdown",
   "id": "8dc8d1af",
   "metadata": {},
   "source": [
    "#### We calculate the total uses of each city where the cabs are the most popular\n",
    "\n",
    "#### FIRST WE ANALYZE THE YELLOW CAB"
   ]
  },
  {
   "cell_type": "code",
   "execution_count": null,
   "id": "9fdea40e",
   "metadata": {},
   "outputs": [],
   "source": [
    "Yellow_Cab.loc[Yellow_Cab[\"City\"] == \"NEW YORK NY\"].head(1)"
   ]
  },
  {
   "cell_type": "code",
   "execution_count": null,
   "id": "21524bbd",
   "metadata": {},
   "outputs": [],
   "source": [
    "Yellow_Cab.loc[Yellow_Cab['City'] == \"CHICAGO IL\"].head(1)"
   ]
  },
  {
   "cell_type": "code",
   "execution_count": null,
   "id": "2ddaa8f7",
   "metadata": {},
   "outputs": [],
   "source": [
    "Yellow_Cab.loc[Yellow_Cab[\"City\"] == \"WASHINGTON DC\"].head(1)"
   ]
  },
  {
   "cell_type": "code",
   "execution_count": null,
   "id": "aa412970",
   "metadata": {},
   "outputs": [],
   "source": [
    "Yellow_Cab.loc[Yellow_Cab[\"City\"] == \"LOS ANGELES CA\"].head(1)"
   ]
  },
  {
   "cell_type": "code",
   "execution_count": null,
   "id": "fa35c39b",
   "metadata": {
    "scrolled": true
   },
   "outputs": [],
   "source": [
    "Yellow_Cab.loc[Yellow_Cab[\"City\"] == \"BOSTON MA\"].head(1)"
   ]
  },
  {
   "cell_type": "markdown",
   "id": "493a885d",
   "metadata": {},
   "source": [
    "#### NEXT WE ANALYZE THE PINK CAB"
   ]
  },
  {
   "cell_type": "code",
   "execution_count": null,
   "id": "092bc8c0",
   "metadata": {},
   "outputs": [],
   "source": [
    "Pink_Cab.loc[Pink_Cab[\"City\"] == \"LOS ANGELES CA\"].head(1)"
   ]
  },
  {
   "cell_type": "code",
   "execution_count": null,
   "id": "164b63cd",
   "metadata": {},
   "outputs": [],
   "source": [
    "Pink_Cab.loc[Pink_Cab[\"City\"] == \"NEW YORK NY\"].head(1)"
   ]
  },
  {
   "cell_type": "code",
   "execution_count": null,
   "id": "309d6577",
   "metadata": {},
   "outputs": [],
   "source": [
    "Pink_Cab.loc[Pink_Cab[\"City\"] == \"SAN DIEGO CA\"].head(1)"
   ]
  },
  {
   "cell_type": "code",
   "execution_count": null,
   "id": "d1da47d2",
   "metadata": {},
   "outputs": [],
   "source": [
    "Pink_Cab.loc[Pink_Cab['City'] == \"CHICAGO IL\"].head(1)"
   ]
  },
  {
   "cell_type": "code",
   "execution_count": null,
   "id": "43209352",
   "metadata": {},
   "outputs": [],
   "source": [
    "Pink_Cab.loc[Pink_Cab['City'] == \"BOSTON MA\"].head(1)"
   ]
  },
  {
   "cell_type": "markdown",
   "id": "bf88cd7d",
   "metadata": {},
   "source": [
    "The total number of users in the cities(for Yellow Cabs): 817,771<br>\n",
    "The total number of users in the cities(for Pink Cabs): 760,765"
   ]
  },
  {
   "cell_type": "markdown",
   "id": "99611fb8",
   "metadata": {},
   "source": [
    "From the analysis above, it seems that the Yellow cabs are more popular due to their use in the more populous cities"
   ]
  },
  {
   "cell_type": "markdown",
   "id": "bf7b576b",
   "metadata": {},
   "source": [
    "# Hypothesis 3"
   ]
  },
  {
   "cell_type": "markdown",
   "id": "18c5b800",
   "metadata": {},
   "source": [
    "New York has the most patronage due to its population size(it is the most populous city)\n"
   ]
  },
  {
   "cell_type": "markdown",
   "id": "6851f6d1",
   "metadata": {},
   "source": [
    "# Hypothesis 4"
   ]
  },
  {
   "cell_type": "markdown",
   "id": "a90fc6dd",
   "metadata": {},
   "source": [
    "It may not also be the city with the most per capita patronage as we will prove below: San Fransisco is\n",
    "So the sheer population of New York may not be the reason for the high patronage of the cab services"
   ]
  },
  {
   "cell_type": "code",
   "execution_count": null,
   "id": "bfe45f34",
   "metadata": {},
   "outputs": [],
   "source": [
    "#Calculating per capita patronage in each city\n",
    "City[\"Per capita patronage\"] = (\n",
    "    City[\"Users\"] / City[\"Population\"]\n",
    ")\n",
    "City.sort_values(by=['Per capita patronage'], ascending=False)"
   ]
  },
  {
   "cell_type": "markdown",
   "id": "8a55ef9c",
   "metadata": {},
   "source": [
    "# Hypothesis 5"
   ]
  },
  {
   "cell_type": "markdown",
   "id": "2bf4b1c4",
   "metadata": {},
   "source": [
    "Customers preferred to use their cards as opposed to cash because it is cheaper to use"
   ]
  },
  {
   "cell_type": "markdown",
   "id": "fb561c10",
   "metadata": {},
   "source": [
    "we compare the payments using cash as opposed to payments using cards"
   ]
  },
  {
   "cell_type": "code",
   "execution_count": null,
   "id": "57ca8c97",
   "metadata": {},
   "outputs": [],
   "source": [
    "Final"
   ]
  },
  {
   "cell_type": "code",
   "execution_count": null,
   "id": "c5688c18",
   "metadata": {},
   "outputs": [],
   "source": [
    "Cash = Final.loc[Final['Payment_Mode'] == \"Cash\"]\n",
    "Cash"
   ]
  },
  {
   "cell_type": "code",
   "execution_count": null,
   "id": "c6a80d60",
   "metadata": {},
   "outputs": [],
   "source": [
    "Card = Final.loc[Final['Payment_Mode'] == \"Card\"]\n",
    "Card"
   ]
  },
  {
   "cell_type": "markdown",
   "id": "a2932af9",
   "metadata": {},
   "source": [
    "so we compare them using the averages of the price charged and cost of trip columns"
   ]
  },
  {
   "cell_type": "code",
   "execution_count": null,
   "id": "bdbae95f",
   "metadata": {},
   "outputs": [],
   "source": [
    "Cash[['Price Charged', 'Cost of Trip']]\n"
   ]
  },
  {
   "cell_type": "code",
   "execution_count": null,
   "id": "14cdcc1d",
   "metadata": {},
   "outputs": [],
   "source": [
    "cash_1 =stat.mean(Cash['Price Charged']) - stat.mean(Cash['Cost of Trip'])\n",
    "round(cash_1, 2)"
   ]
  },
  {
   "cell_type": "code",
   "execution_count": null,
   "id": "cf75b0bb",
   "metadata": {},
   "outputs": [],
   "source": [
    "Card[['Price Charged', 'Cost of Trip']]\n"
   ]
  },
  {
   "cell_type": "code",
   "execution_count": null,
   "id": "e6a1825a",
   "metadata": {},
   "outputs": [],
   "source": [
    "card_1 =stat.mean(Card['Price Charged']) - stat.mean(Card['Cost of Trip'])\n",
    "round(card_1, 2)"
   ]
  },
  {
   "cell_type": "markdown",
   "id": "73f9e905",
   "metadata": {},
   "source": [
    "there is little to no noticeable difference between the use of cards versus the use of cash when we compare the average cost <br> of trip and average price charged for each of the transaction methods"
   ]
  },
  {
   "cell_type": "markdown",
   "id": "851aaf48",
   "metadata": {},
   "source": [
    "# Hypothesis 5"
   ]
  },
  {
   "cell_type": "markdown",
   "id": "970e7294",
   "metadata": {},
   "source": [
    "so, it may be because of the convenience of using cards as opposed to cash but that will require a sample of the users to give the reasons themselves"
   ]
  },
  {
   "cell_type": "markdown",
   "id": "c944b9df",
   "metadata": {},
   "source": [
    "  "
   ]
  },
  {
   "cell_type": "markdown",
   "id": "dfce6510",
   "metadata": {},
   "source": [
    "\n",
    "# REPORT"
   ]
  }
 ],
 "metadata": {
  "kernelspec": {
   "display_name": "Python 3 (ipykernel)",
   "language": "python",
   "name": "python3"
  },
  "language_info": {
   "codemirror_mode": {
    "name": "ipython",
    "version": 3
   },
   "file_extension": ".py",
   "mimetype": "text/x-python",
   "name": "python",
   "nbconvert_exporter": "python",
   "pygments_lexer": "ipython3",
   "version": "3.9.12"
  }
 },
 "nbformat": 4,
 "nbformat_minor": 5
}
